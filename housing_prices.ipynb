{
 "cells": [
  {
   "cell_type": "code",
   "execution_count": 60,
   "id": "c132c0d0",
   "metadata": {},
   "outputs": [],
   "source": [
    "import pandas as pd\n",
    "from sklearn.model_selection import train_test_split\n",
    "from sklearn.ensemble import RandomForestRegressor\n",
    "from sklearn.metrics import mean_absolute_error\n",
    "from sklearn.metrics import accuracy_score"
   ]
  },
  {
   "cell_type": "code",
   "execution_count": 61,
   "id": "554d7028",
   "metadata": {},
   "outputs": [
    {
     "data": {
      "text/html": [
       "<div>\n",
       "<style scoped>\n",
       "    .dataframe tbody tr th:only-of-type {\n",
       "        vertical-align: middle;\n",
       "    }\n",
       "\n",
       "    .dataframe tbody tr th {\n",
       "        vertical-align: top;\n",
       "    }\n",
       "\n",
       "    .dataframe thead th {\n",
       "        text-align: right;\n",
       "    }\n",
       "</style>\n",
       "<table border=\"1\" class=\"dataframe\">\n",
       "  <thead>\n",
       "    <tr style=\"text-align: right;\">\n",
       "      <th></th>\n",
       "      <th>Id</th>\n",
       "      <th>MSSubClass</th>\n",
       "      <th>MSZoning</th>\n",
       "      <th>LotFrontage</th>\n",
       "      <th>LotArea</th>\n",
       "      <th>Street</th>\n",
       "      <th>Alley</th>\n",
       "      <th>LotShape</th>\n",
       "      <th>LandContour</th>\n",
       "      <th>Utilities</th>\n",
       "      <th>...</th>\n",
       "      <th>PoolArea</th>\n",
       "      <th>PoolQC</th>\n",
       "      <th>Fence</th>\n",
       "      <th>MiscFeature</th>\n",
       "      <th>MiscVal</th>\n",
       "      <th>MoSold</th>\n",
       "      <th>YrSold</th>\n",
       "      <th>SaleType</th>\n",
       "      <th>SaleCondition</th>\n",
       "      <th>SalePrice</th>\n",
       "    </tr>\n",
       "  </thead>\n",
       "  <tbody>\n",
       "    <tr>\n",
       "      <th>0</th>\n",
       "      <td>1</td>\n",
       "      <td>60</td>\n",
       "      <td>RL</td>\n",
       "      <td>65.0</td>\n",
       "      <td>8450</td>\n",
       "      <td>Pave</td>\n",
       "      <td>NaN</td>\n",
       "      <td>Reg</td>\n",
       "      <td>Lvl</td>\n",
       "      <td>AllPub</td>\n",
       "      <td>...</td>\n",
       "      <td>0</td>\n",
       "      <td>NaN</td>\n",
       "      <td>NaN</td>\n",
       "      <td>NaN</td>\n",
       "      <td>0</td>\n",
       "      <td>2</td>\n",
       "      <td>2008</td>\n",
       "      <td>WD</td>\n",
       "      <td>Normal</td>\n",
       "      <td>208500</td>\n",
       "    </tr>\n",
       "    <tr>\n",
       "      <th>1</th>\n",
       "      <td>2</td>\n",
       "      <td>20</td>\n",
       "      <td>RL</td>\n",
       "      <td>80.0</td>\n",
       "      <td>9600</td>\n",
       "      <td>Pave</td>\n",
       "      <td>NaN</td>\n",
       "      <td>Reg</td>\n",
       "      <td>Lvl</td>\n",
       "      <td>AllPub</td>\n",
       "      <td>...</td>\n",
       "      <td>0</td>\n",
       "      <td>NaN</td>\n",
       "      <td>NaN</td>\n",
       "      <td>NaN</td>\n",
       "      <td>0</td>\n",
       "      <td>5</td>\n",
       "      <td>2007</td>\n",
       "      <td>WD</td>\n",
       "      <td>Normal</td>\n",
       "      <td>181500</td>\n",
       "    </tr>\n",
       "    <tr>\n",
       "      <th>2</th>\n",
       "      <td>3</td>\n",
       "      <td>60</td>\n",
       "      <td>RL</td>\n",
       "      <td>68.0</td>\n",
       "      <td>11250</td>\n",
       "      <td>Pave</td>\n",
       "      <td>NaN</td>\n",
       "      <td>IR1</td>\n",
       "      <td>Lvl</td>\n",
       "      <td>AllPub</td>\n",
       "      <td>...</td>\n",
       "      <td>0</td>\n",
       "      <td>NaN</td>\n",
       "      <td>NaN</td>\n",
       "      <td>NaN</td>\n",
       "      <td>0</td>\n",
       "      <td>9</td>\n",
       "      <td>2008</td>\n",
       "      <td>WD</td>\n",
       "      <td>Normal</td>\n",
       "      <td>223500</td>\n",
       "    </tr>\n",
       "    <tr>\n",
       "      <th>3</th>\n",
       "      <td>4</td>\n",
       "      <td>70</td>\n",
       "      <td>RL</td>\n",
       "      <td>60.0</td>\n",
       "      <td>9550</td>\n",
       "      <td>Pave</td>\n",
       "      <td>NaN</td>\n",
       "      <td>IR1</td>\n",
       "      <td>Lvl</td>\n",
       "      <td>AllPub</td>\n",
       "      <td>...</td>\n",
       "      <td>0</td>\n",
       "      <td>NaN</td>\n",
       "      <td>NaN</td>\n",
       "      <td>NaN</td>\n",
       "      <td>0</td>\n",
       "      <td>2</td>\n",
       "      <td>2006</td>\n",
       "      <td>WD</td>\n",
       "      <td>Abnorml</td>\n",
       "      <td>140000</td>\n",
       "    </tr>\n",
       "    <tr>\n",
       "      <th>4</th>\n",
       "      <td>5</td>\n",
       "      <td>60</td>\n",
       "      <td>RL</td>\n",
       "      <td>84.0</td>\n",
       "      <td>14260</td>\n",
       "      <td>Pave</td>\n",
       "      <td>NaN</td>\n",
       "      <td>IR1</td>\n",
       "      <td>Lvl</td>\n",
       "      <td>AllPub</td>\n",
       "      <td>...</td>\n",
       "      <td>0</td>\n",
       "      <td>NaN</td>\n",
       "      <td>NaN</td>\n",
       "      <td>NaN</td>\n",
       "      <td>0</td>\n",
       "      <td>12</td>\n",
       "      <td>2008</td>\n",
       "      <td>WD</td>\n",
       "      <td>Normal</td>\n",
       "      <td>250000</td>\n",
       "    </tr>\n",
       "  </tbody>\n",
       "</table>\n",
       "<p>5 rows × 81 columns</p>\n",
       "</div>"
      ],
      "text/plain": [
       "   Id  MSSubClass MSZoning  LotFrontage  LotArea Street Alley LotShape  \\\n",
       "0   1          60       RL         65.0     8450   Pave   NaN      Reg   \n",
       "1   2          20       RL         80.0     9600   Pave   NaN      Reg   \n",
       "2   3          60       RL         68.0    11250   Pave   NaN      IR1   \n",
       "3   4          70       RL         60.0     9550   Pave   NaN      IR1   \n",
       "4   5          60       RL         84.0    14260   Pave   NaN      IR1   \n",
       "\n",
       "  LandContour Utilities  ... PoolArea PoolQC Fence MiscFeature MiscVal MoSold  \\\n",
       "0         Lvl    AllPub  ...        0    NaN   NaN         NaN       0      2   \n",
       "1         Lvl    AllPub  ...        0    NaN   NaN         NaN       0      5   \n",
       "2         Lvl    AllPub  ...        0    NaN   NaN         NaN       0      9   \n",
       "3         Lvl    AllPub  ...        0    NaN   NaN         NaN       0      2   \n",
       "4         Lvl    AllPub  ...        0    NaN   NaN         NaN       0     12   \n",
       "\n",
       "  YrSold  SaleType  SaleCondition  SalePrice  \n",
       "0   2008        WD         Normal     208500  \n",
       "1   2007        WD         Normal     181500  \n",
       "2   2008        WD         Normal     223500  \n",
       "3   2006        WD        Abnorml     140000  \n",
       "4   2008        WD         Normal     250000  \n",
       "\n",
       "[5 rows x 81 columns]"
      ]
     },
     "execution_count": 61,
     "metadata": {},
     "output_type": "execute_result"
    }
   ],
   "source": [
    "housing_data = pd.read_csv('train.csv') #Using pandas to read the file\n",
    "housing_data.head()"
   ]
  },
  {
   "cell_type": "code",
   "execution_count": 62,
   "id": "eee17be5",
   "metadata": {},
   "outputs": [],
   "source": [
    "y = housing_data['SalePrice']  #y is the saleprice that I need to predict\n",
    "features = ['LotArea','MSSubClass','PoolArea','MoSold','YrSold','MiscVal','OverallQual','OverallCond','YearBuilt','YearRemodAdd','1stFlrSF','2ndFlrSF','LowQualFinSF','GrLivArea','FullBath','HalfBath','BedroomAbvGr','KitchenAbvGr','TotRmsAbvGrd','Fireplaces','WoodDeckSF','OpenPorchSF','EnclosedPorch','3SsnPorch','ScreenPorch']\n",
    "X = housing_data[features] #The components which affect the saleprice"
   ]
  },
  {
   "cell_type": "code",
   "execution_count": 63,
   "id": "cf4fee77",
   "metadata": {},
   "outputs": [],
   "source": [
    "train_X,val_X,train_y,val_y = train_test_split(X,y,random_state = 1) #splitting the data"
   ]
  },
  {
   "cell_type": "code",
   "execution_count": 64,
   "id": "00c0ac93",
   "metadata": {},
   "outputs": [],
   "source": [
    "rf_model = RandomForestRegressor()"
   ]
  },
  {
   "cell_type": "code",
   "execution_count": 65,
   "id": "051322ca",
   "metadata": {},
   "outputs": [
    {
     "name": "stdout",
     "output_type": "stream",
     "text": [
      "(1095, 25)\n",
      "(365, 25)\n",
      "(1095,)\n",
      "(365,)\n"
     ]
    }
   ],
   "source": [
    "print(train_X.shape)\n",
    "print(val_X.shape)\n",
    "print(train_y.shape)\n",
    "print(val_y.shape)"
   ]
  },
  {
   "cell_type": "code",
   "execution_count": 66,
   "id": "03914e2d",
   "metadata": {},
   "outputs": [
    {
     "data": {
      "text/plain": [
       "RandomForestRegressor()"
      ]
     },
     "execution_count": 66,
     "metadata": {},
     "output_type": "execute_result"
    }
   ],
   "source": [
    "rf_model.fit(X,y) #fitting the data"
   ]
  },
  {
   "cell_type": "code",
   "execution_count": 67,
   "id": "56729523",
   "metadata": {},
   "outputs": [
    {
     "name": "stdout",
     "output_type": "stream",
     "text": [
      "      LotArea  MSSubClass  PoolArea  MoSold  YrSold  MiscVal  OverallQual  \\\n",
      "258     12435          60         0       5    2008        0            7   \n",
      "267      8400          75         0       7    2008        0            5   \n",
      "288      9819          20         0       2    2010        0            5   \n",
      "649      1936         180         0      12    2007        0            4   \n",
      "1233    12160          20         0       5    2010        0            5   \n",
      "\n",
      "      OverallCond  YearBuilt  YearRemodAdd  ...  HalfBath  BedroomAbvGr  \\\n",
      "258             5       2001          2001  ...         1             3   \n",
      "267             8       1939          1997  ...         1             4   \n",
      "288             5       1967          1967  ...         0             3   \n",
      "649             6       1970          1970  ...         0             1   \n",
      "1233            5       1959          1959  ...         0             3   \n",
      "\n",
      "      KitchenAbvGr  TotRmsAbvGrd  Fireplaces  WoodDeckSF  OpenPorchSF  \\\n",
      "258              1             7           1           0           96   \n",
      "267              1             8           1         262           24   \n",
      "288              1             5           0           0            0   \n",
      "649              1             3           0           0            0   \n",
      "1233             1             6           0           0            0   \n",
      "\n",
      "      EnclosedPorch  3SsnPorch  ScreenPorch  \n",
      "258               0        245            0  \n",
      "267               0          0            0  \n",
      "288               0          0            0  \n",
      "649               0          0            0  \n",
      "1233              0          0            0  \n",
      "\n",
      "[5 rows x 25 columns]\n"
     ]
    }
   ],
   "source": [
    "print(val_X.head())"
   ]
  },
  {
   "cell_type": "code",
   "execution_count": 68,
   "id": "4fbc557f",
   "metadata": {},
   "outputs": [
    {
     "data": {
      "text/plain": [
       "RandomForestRegressor()"
      ]
     },
     "execution_count": 68,
     "metadata": {},
     "output_type": "execute_result"
    }
   ],
   "source": [
    "rf_model.fit(train_X,train_y) #fitting the train data"
   ]
  },
  {
   "cell_type": "code",
   "execution_count": 69,
   "id": "1338b474",
   "metadata": {},
   "outputs": [],
   "source": [
    "rf_val_pred = rf_model.predict(val_X).round()"
   ]
  },
  {
   "cell_type": "code",
   "execution_count": 70,
   "id": "171cc379",
   "metadata": {},
   "outputs": [
    {
     "name": "stdout",
     "output_type": "stream",
     "text": [
      "[209156. 167141. 116184.  80900. 143166. 297979. 293507. 145986. 222077.\n",
      " 199907. 172190.  77785. 200646. 328524. 221756. 107628. 113067. 101263.\n",
      " 184505. 139672. 142680. 121810. 269240. 321666.  90976. 178729. 127228.\n",
      " 187941. 468272. 119412. 118697. 108981. 121936.  88921. 139692. 353079.\n",
      " 122007.  99912. 257985. 122918. 155937. 146984. 100928. 120326. 182174.\n",
      " 171384. 131927. 180946. 262022. 243854. 121332. 282313. 106360. 255618.\n",
      " 195237. 103059. 123358. 174511. 129702. 177621. 163485. 298825.  97012.\n",
      " 127527. 155259. 131000. 144758. 233017. 138920. 157985. 183110. 125882.\n",
      " 301383. 157996. 150759. 215765. 172234. 126112. 372643. 188923. 207744.\n",
      " 143799. 135581. 152628. 189357. 161672. 160030. 162134. 190092. 176722.\n",
      " 197977. 163804. 120860. 117451. 116336. 114858. 117579. 140969. 140634.\n",
      " 152221. 175674. 129373. 113730. 115860. 126820. 181457. 183949. 156218.\n",
      " 149726. 313178. 147968. 162827. 147364. 199814. 226898. 173902. 244157.\n",
      " 122822. 148737. 312452. 138153. 242613. 320064. 179732. 190192. 172144.\n",
      " 322720. 123995. 221449. 209114. 264440.  93203. 128542. 122988.  97570.\n",
      " 186034. 534178. 319824. 254859. 130479. 138794. 228938. 164984. 206610.\n",
      " 100481. 213650. 110714. 207101. 223450. 119286. 185970. 171394. 123770.\n",
      " 180258. 173193. 318653. 116330. 146352. 108183. 150497.  76261. 102517.\n",
      " 162119. 142465. 138315. 141360. 169981. 143163. 146350. 118643. 238515.\n",
      " 164148. 243123. 296226. 198123. 135424. 190529. 200894. 123092. 160860.\n",
      " 129759. 175739. 159529. 126329. 260304. 138239. 388459. 298050. 150251.\n",
      " 124074. 117192. 138265.  93505. 196542. 108150. 290007. 220800. 153526.\n",
      " 145506.  74115. 185883. 238955. 162845. 177530. 310308. 115740. 194463.\n",
      " 286177. 306766. 191822. 191073. 114996. 168346. 123086. 287284. 257112.\n",
      " 121312.  93417. 183252.  86109. 536781. 117338. 167408. 201717. 111969.\n",
      " 117891. 230817. 165765. 161764. 168634. 125501. 183884. 108604. 130256.\n",
      " 319382. 127042. 302740. 118553. 144965. 296371. 288079. 163790. 118766.\n",
      " 156450. 111563. 134069. 145039. 154463. 155590. 144036. 124800. 125478.\n",
      " 189770. 167664. 142132. 120082. 180359.  88248. 346869. 131364. 218477.\n",
      " 139023. 209986. 173015. 129674. 192745. 125974. 167236. 153182.  93878.\n",
      " 183960. 180807.  97551. 134327. 171856. 134621. 110919. 126040. 174256.\n",
      " 139649. 131218. 132234. 134555. 145169. 247240. 228286. 126929. 112257.\n",
      " 259122. 109248. 103966. 260169. 145670. 116566. 186862. 222029. 175062.\n",
      " 208802. 147906. 112573. 156600. 137841. 143302. 190717. 144793. 212680.\n",
      " 144025. 172026. 158528. 199928. 150428. 152834. 109101. 226831. 150711.\n",
      "  88994. 254592. 194837. 174905. 169176. 189219. 169481. 136479. 246619.\n",
      " 125775. 381246. 172044. 240758. 133994. 122488. 132987. 274641. 241201.\n",
      " 277339. 177516. 168295. 137079. 112180. 281107. 174604. 220229. 256044.\n",
      "  80619. 265184. 108403. 147825. 150976. 159538. 325734. 107758. 203180.\n",
      " 172058. 354079. 139630. 145406. 144852. 191770. 146030. 101501. 303289.\n",
      " 202010. 211383. 123203. 267535. 181200.]\n"
     ]
    }
   ],
   "source": [
    "print(rf_val_pred)"
   ]
  },
  {
   "cell_type": "code",
   "execution_count": 71,
   "id": "64bc53da",
   "metadata": {},
   "outputs": [
    {
     "name": "stdout",
     "output_type": "stream",
     "text": [
      "258     231500\n",
      "267     179500\n",
      "288     122000\n",
      "649      84500\n",
      "1233    142000\n",
      "         ...  \n",
      "1017    187500\n",
      "534     178000\n",
      "1334    125000\n",
      "1369    232000\n",
      "628     135000\n",
      "Name: SalePrice, Length: 365, dtype: int64\n"
     ]
    }
   ],
   "source": [
    "print(val_y)"
   ]
  },
  {
   "cell_type": "code",
   "execution_count": 74,
   "id": "4398c77e",
   "metadata": {},
   "outputs": [
    {
     "name": "stdout",
     "output_type": "stream",
     "text": [
      "17974.70684931507\n"
     ]
    }
   ],
   "source": [
    "print(mean_absolute_error(rf_val_pred,val_y)) #calculating the mean absolute error"
   ]
  },
  {
   "cell_type": "code",
   "execution_count": 75,
   "id": "7b1227f5",
   "metadata": {},
   "outputs": [],
   "source": [
    "test_data = pd.read_csv('test.csv')"
   ]
  },
  {
   "cell_type": "code",
   "execution_count": 76,
   "id": "c42495b4",
   "metadata": {},
   "outputs": [],
   "source": [
    "test_X = test_data[features]"
   ]
  },
  {
   "cell_type": "code",
   "execution_count": 77,
   "id": "b3a3331f",
   "metadata": {},
   "outputs": [],
   "source": [
    "test_pred = rf_model.predict(test_X) #predicting the given test data"
   ]
  },
  {
   "cell_type": "code",
   "execution_count": 78,
   "id": "ebaf462e",
   "metadata": {},
   "outputs": [],
   "source": [
    "output = pd.DataFrame({'Id':test_data.Id,'SalePrice':test_pred})"
   ]
  },
  {
   "cell_type": "code",
   "execution_count": 79,
   "id": "4c8a06ef",
   "metadata": {},
   "outputs": [
    {
     "name": "stdout",
     "output_type": "stream",
     "text": [
      "        Id  SalePrice\n",
      "0     1461  121510.66\n",
      "1     1462  152109.50\n",
      "2     1463  168545.78\n",
      "3     1464  182204.85\n",
      "4     1465  195369.68\n",
      "...    ...        ...\n",
      "1454  2915   87110.50\n",
      "1455  2916   81682.50\n",
      "1456  2917  157180.00\n",
      "1457  2918  137234.60\n",
      "1458  2919  234464.60\n",
      "\n",
      "[1459 rows x 2 columns]\n"
     ]
    }
   ],
   "source": [
    "print(output)"
   ]
  },
  {
   "cell_type": "code",
   "execution_count": 80,
   "id": "734aeac6",
   "metadata": {},
   "outputs": [],
   "source": [
    "output.to_csv('submission.csv',index = 'False') #submission"
   ]
  },
  {
   "cell_type": "code",
   "execution_count": null,
   "id": "b2372602",
   "metadata": {},
   "outputs": [],
   "source": []
  }
 ],
 "metadata": {
  "kernelspec": {
   "display_name": "Python 3 (ipykernel)",
   "language": "python",
   "name": "python3"
  },
  "language_info": {
   "codemirror_mode": {
    "name": "ipython",
    "version": 3
   },
   "file_extension": ".py",
   "mimetype": "text/x-python",
   "name": "python",
   "nbconvert_exporter": "python",
   "pygments_lexer": "ipython3",
   "version": "3.9.12"
  }
 },
 "nbformat": 4,
 "nbformat_minor": 5
}
